{
  "cells": [
    {
      "cell_type": "code",
      "source": [
        "!pip install transformers"
      ],
      "metadata": {
        "id": "ZLuN-onkzk0n"
      },
      "id": "ZLuN-onkzk0n",
      "execution_count": null,
      "outputs": []
    },
    {
      "cell_type": "code",
      "execution_count": null,
      "id": "6e780a75",
      "metadata": {
        "id": "6e780a75"
      },
      "outputs": [],
      "source": [
        "from torch.utils.data import TensorDataset, DataLoader, RandomSampler, SequentialSampler\n",
        "from torch.optim import AdamW\n",
        "from transformers import BertTokenizer, BertForSequenceClassification\n",
        "from sklearn.model_selection import train_test_split\n",
        "from sklearn.metrics import accuracy_score\n",
        "\n",
        "import datetime\n",
        "import numpy as np\n",
        "import pandas\n",
        "import random\n",
        "import time\n",
        "import torch"
      ]
    },
    {
      "cell_type": "code",
      "source": [
        "device = 'cuda' if torch.cuda.is_available() else 'cpu'\n",
        "print(\"Running on '%s'.\" % (device))"
      ],
      "metadata": {
        "id": "MlnejpC17qsk"
      },
      "id": "MlnejpC17qsk",
      "execution_count": null,
      "outputs": []
    },
    {
      "cell_type": "markdown",
      "id": "WaqfStKe05yi",
      "metadata": {
        "id": "WaqfStKe05yi"
      },
      "source": [
        "## Mount"
      ]
    },
    {
      "cell_type": "code",
      "execution_count": null,
      "id": "KTTloTjuvLjs",
      "metadata": {
        "id": "KTTloTjuvLjs"
      },
      "outputs": [],
      "source": [
        "#from google.colab import drive\n",
        "#drive.mount('/content/drive')\n",
        "#%cd /content/drive/MyDrive/sarcasm-detection/notebooks\n",
        "#!ls"
      ]
    },
    {
      "cell_type": "markdown",
      "id": "klhUBbA11AzG",
      "metadata": {
        "id": "klhUBbA11AzG"
      },
      "source": [
        "# Get Data"
      ]
    },
    {
      "cell_type": "code",
      "execution_count": null,
      "id": "4d4dde99",
      "metadata": {
        "id": "4d4dde99"
      },
      "outputs": [],
      "source": [
        "df = pandas.read_csv(\"../data/processed_sarcasm-dataset.csv\", index_col=False)\n",
        "df = df.astype({'label': 'int32', 'comment': 'str', 'parent_comment': 'str'})\n",
        "df = df.sample(frac = 1) # Shuffle rows\n",
        "df = df.reset_index(drop=True)"
      ]
    },
    {
      "cell_type": "code",
      "execution_count": null,
      "id": "1c762d8e",
      "metadata": {
        "id": "1c762d8e"
      },
      "outputs": [],
      "source": [
        "display(df)"
      ]
    },
    {
      "cell_type": "markdown",
      "id": "DjPTii4Y1CS7",
      "metadata": {
        "id": "DjPTii4Y1CS7"
      },
      "source": [
        "# Get Tokenizer"
      ]
    },
    {
      "cell_type": "code",
      "source": [
        "counter = 0"
      ],
      "metadata": {
        "id": "HtxxacCZ0Cev"
      },
      "id": "HtxxacCZ0Cev",
      "execution_count": null,
      "outputs": []
    },
    {
      "cell_type": "code",
      "execution_count": null,
      "id": "37e45047",
      "metadata": {
        "id": "37e45047"
      },
      "outputs": [],
      "source": [
        "tokenizer = BertTokenizer.from_pretrained(\"bert-base-cased\")\n",
        "\n",
        "# make [CLS] Sentence1 [SEP] Sentence2 [SEP]\n",
        "def encode_text(parent_comment, comment):\n",
        "  global counter\n",
        "  counter +=1\n",
        "  print(\"\\rProcessed rows: %d\" % counter, end='')\n",
        "  return tokenizer.encode_plus(\n",
        "                      parent_comment, comment,\n",
        "                      add_special_tokens = True, #'[CLS]' and '[SEP]'\n",
        "                      padding = 'max_length',\n",
        "                      truncation = True, # Longest first\n",
        "                      max_length = 384,  # Max length for input\n",
        "                      return_attention_mask = True, # Retrieve attention masks.\n",
        "                      return_tensors = 'pt', # Return pytorch tensors.\n",
        "                  )"
      ]
    },
    {
      "cell_type": "code",
      "execution_count": null,
      "id": "2b4ee447",
      "metadata": {
        "id": "2b4ee447"
      },
      "outputs": [],
      "source": [
        "encoding_out = df.apply(lambda row : encode_text(row['parent_comment'], row['comment']), axis=1)\n",
        "\n",
        "#df['input_ids'] = [out['input_ids'] for out in encoding_out]\n",
        "#df['token_type_id'] = [out['token_type_ids'] for out in encoding_out]\n",
        "#df['attention_mask'] = [out['attention_mask'] for out in encoding_out]"
      ]
    },
    {
      "cell_type": "markdown",
      "source": [
        "# Train-Test Split"
      ],
      "metadata": {
        "id": "fToTb5Sp7BTa"
      },
      "id": "fToTb5Sp7BTa"
    },
    {
      "cell_type": "code",
      "source": [
        "x_train, x_val, y_train, y_val = train_test_split(encoding_out, df['label'].to_list(), random_state=2023, test_size=0.2)"
      ],
      "metadata": {
        "id": "5rTWiMtw7Emo"
      },
      "id": "5rTWiMtw7Emo",
      "execution_count": null,
      "outputs": []
    },
    {
      "cell_type": "code",
      "source": [
        "train_inputs = torch.cat([t['input_ids'] for t in x_train], dim=0).to(device)\n",
        "validation_inputs = torch.cat([t['input_ids'] for t in x_val], dim=0).to(device)\n",
        "train_labels = torch.tensor(y_train).to(device)\n",
        "validation_labels = torch.tensor(y_val).to(device)\n",
        "\n",
        "train_masks = torch.cat([t['attention_mask'] for t in x_train], dim=0).to(device)\n",
        "validation_masks = torch.cat([t['attention_mask'] for t in x_val], dim=0).to(device)"
      ],
      "metadata": {
        "id": "_kBKvoBZ7W1D"
      },
      "id": "_kBKvoBZ7W1D",
      "execution_count": null,
      "outputs": []
    },
    {
      "cell_type": "markdown",
      "id": "SfLwzjT_zDRR",
      "metadata": {
        "id": "SfLwzjT_zDRR"
      },
      "source": [
        "# Generate batches"
      ]
    },
    {
      "cell_type": "code",
      "execution_count": null,
      "id": "hViQsRjQzICz",
      "metadata": {
        "id": "hViQsRjQzICz"
      },
      "outputs": [],
      "source": [
        "batch_size = 16"
      ]
    },
    {
      "cell_type": "code",
      "execution_count": null,
      "id": "i9SdtqOmzB5X",
      "metadata": {
        "id": "i9SdtqOmzB5X"
      },
      "outputs": [],
      "source": [
        "# Create the DataLoader for our training set\n",
        "train_data = TensorDataset(train_inputs, train_masks, train_labels)\n",
        "train_sampler = RandomSampler(train_data)\n",
        "train_dataloader = DataLoader(train_data, sampler=train_sampler, batch_size=batch_size)\n",
        "\n",
        "# Create the DataLoader for our validation set\n",
        "validation_data = TensorDataset(validation_inputs, validation_masks, validation_labels)\n",
        "validation_sampler = SequentialSampler(validation_data)\n",
        "validation_dataloader = DataLoader(validation_data, sampler=validation_sampler, batch_size=batch_size)"
      ]
    },
    {
      "cell_type": "markdown",
      "id": "iaRBn5ZT01PN",
      "metadata": {
        "id": "iaRBn5ZT01PN"
      },
      "source": [
        "# Train Config"
      ]
    },
    {
      "cell_type": "code",
      "source": [
        "model = BertForSequenceClassification.from_pretrained(\n",
        "    \"bert-base-cased\", # Use the 12-layer BERT model\n",
        "    num_labels = 2, # sarcastic or not\n",
        "    output_attentions = False, # Whether the model returns attentions weights.\n",
        "    output_hidden_states = False, # Whether the model returns all hidden-states.\n",
        ")\n",
        "\n",
        "# Tell pytorch to run this model on the GPU.\n",
        "model.cuda()"
      ],
      "metadata": {
        "id": "B5y4d9ah8rGD"
      },
      "id": "B5y4d9ah8rGD",
      "execution_count": null,
      "outputs": []
    },
    {
      "cell_type": "code",
      "source": [
        "learning_rate = 3e-5\n",
        "epsilon = 1e-8"
      ],
      "metadata": {
        "id": "5R_TmzVo9dxQ"
      },
      "id": "5R_TmzVo9dxQ",
      "execution_count": null,
      "outputs": []
    },
    {
      "cell_type": "code",
      "source": [
        "optimizer = torch.optim.AdamW(model.parameters(), lr = learning_rate, eps = epsilon)\n",
        "# Eps avoids divide-by-zero"
      ],
      "metadata": {
        "id": "S0skQ6q683bz"
      },
      "id": "S0skQ6q683bz",
      "execution_count": null,
      "outputs": []
    },
    {
      "cell_type": "markdown",
      "source": [
        "# Train Model"
      ],
      "metadata": {
        "id": "T8-nq5m991lz"
      },
      "id": "T8-nq5m991lz"
    },
    {
      "cell_type": "code",
      "source": [
        "epochs = 4\n",
        "loss_values = []"
      ],
      "metadata": {
        "id": "P1hz7ZA693pE"
      },
      "id": "P1hz7ZA693pE",
      "execution_count": null,
      "outputs": []
    },
    {
      "cell_type": "code",
      "source": [
        "# Measure the total loss for each epoch.\n",
        "total_loss = 0\n",
        "\n",
        "# Loop over each epoch.\n",
        "for epoch in range(epochs+1):\n",
        "\n",
        "    print(\"\")\n",
        "    print('======== Epoch %d / %d ========' % (epoch, epochs))\n",
        "\n",
        "    # Reset the total loss for each epoch.\n",
        "    total_loss = 0\n",
        "\n",
        "    # Put the model into training mode\n",
        "    model.train()\n",
        "\n",
        "    # For each batch of training data\n",
        "    for step, batch in enumerate(train_dataloader):\n",
        "\n",
        "        # Unpack the training batch from dataloader and copy each tensor to the GPU\n",
        "        b_input_ids = batch[0].to(device)\n",
        "        b_input_mask = batch[1].to(device)\n",
        "        b_labels = batch[2].to(device)\n",
        "\n",
        "        # Clear any previously calculated gradients before performing a backward pass\n",
        "        model.zero_grad()\n",
        "\n",
        "        # Perform a forward pass (evaluate the model on this training batch)\n",
        "        outputs = model(b_input_ids,\n",
        "                        token_type_ids=None,\n",
        "                        attention_mask=b_input_mask,\n",
        "                        labels=b_labels)\n",
        "\n",
        "        # The call to `model` always returns a tuple, so we need to pull the loss value out of the tuple\n",
        "        loss = outputs[0]\n",
        "\n",
        "        # Accumulate the training loss over all of the batches\n",
        "        total_loss += loss.item()\n",
        "\n",
        "        # Perform a backward pass to calculate the gradients\n",
        "        loss.backward()\n",
        "\n",
        "        # Clip the norm of the gradients to 1.0 (helps prevent the \"exploding gradients\" problem)\n",
        "        torch.nn.utils.clip_grad_norm_(model.parameters(), 1.0)\n",
        "\n",
        "        # Update parameters and take a step using the computed gradient\n",
        "        optimizer.step()\n",
        "\n",
        "    # Calculate the average loss over the training data.\n",
        "    avg_train_loss = total_loss / len(train_dataloader)\n",
        "\n",
        "    print(\"Average training loss: %.2f\" % (avg_train_loss))\n",
        "\n",
        "    # ========================================\n",
        "    #               Validation\n",
        "    # ========================================\n",
        "\n",
        "    # After the completion of each training epoch, measure the model's performance on\n",
        "    # the validation set.\n",
        "\n",
        "    print(\"\\nRunning Validation...\")\n",
        "\n",
        "    # Put the model in evaluation mode\n",
        "    model.eval()\n",
        "\n",
        "    # Tracking variables\n",
        "    eval_loss, eval_accuracy = 0, 0\n",
        "    nb_eval_steps, nb_eval_examples = 0, 0\n",
        "\n",
        "    # Evaluate data for one epoch\n",
        "    for batch in validation_dataloader:\n",
        "\n",
        "        # Add batch to GPU\n",
        "        batch = tuple(t.to(device) for t in batch)\n",
        "\n",
        "        # Unpack the inputs from dataloader\n",
        "        b_input_ids, b_input_mask, b_labels = batch\n",
        "\n",
        "        # Telling the model not to compute or store gradients, saving memory and speeding up validation\n",
        "        with torch.no_grad():\n",
        "\n",
        "            # Forward pass, calculate logit predictions.\n",
        "            outputs = model(b_input_ids,\n",
        "                            token_type_ids=None,\n",
        "                            attention_mask=b_input_mask)\n",
        "\n",
        "        # Get the \"logits\" output by the model. The \"logits\" are the output\n",
        "        # values prior to applying an activation function like the softmax.\n",
        "        logits = outputs[0]\n",
        "\n",
        "        # Move logits and labels to CPU\n",
        "        logits = logits.detach().cpu().numpy()\n",
        "        label_ids = b_labels.to('cpu').numpy()\n",
        "\n",
        "        # Calculate the accuracy for this batch of test sentences.\n",
        "        tmp_eval_accuracy = accuracy_score(np.argmax(logits, axis=1).flatten(), label_ids.flatten())\n",
        "\n",
        "        # Accumulate the total accuracy.\n",
        "        eval_accuracy += tmp_eval_accuracy\n",
        "\n",
        "        # Track the number of batches\n",
        "        nb_eval_steps += 1\n",
        "\n",
        "    # Report the final accuracy for this validation run.\n",
        "    print(\"Val Accuracy: %.2f\" % (eval_accuracy/nb_eval_steps))\n"
      ],
      "metadata": {
        "id": "96GEzTXL-gTg"
      },
      "id": "96GEzTXL-gTg",
      "execution_count": null,
      "outputs": []
    },
    {
      "cell_type": "code",
      "source": [
        "# let's assume that you have your parent_comment and comment as follows\n",
        "parent_comment = \"obamas fema camps have experienced significant delays PERIOD but they should finally be ready on or before november 8 PERIOD\"\n",
        "comment = \"they will all be tragic victims of climate changemuahahahaha\"\n",
        "\n",
        "tokenizer = BertTokenizer.from_pretrained('bert-base-cased')\n",
        "\n",
        "# The BERT model expects data in a specific format.\n",
        "# Here, we are tokenizing the comment pair and formatting it as the BERT model expects.\n",
        "encoded_input = tokenizer(parent_comment, comment, padding=True, truncation=True, max_length = 384, return_tensors='pt')\n",
        "\n",
        "# If you are using GPU, move the tensor to GPU\n",
        "if torch.cuda.is_available():\n",
        "    model = model.to('cuda')\n",
        "    encoded_input = encoded_input.to('cuda')\n",
        "\n",
        "# Run the data through the model\n",
        "with torch.no_grad():\n",
        "    outputs = model(**encoded_input)"
      ],
      "metadata": {
        "id": "HKAtvTVnMTBk"
      },
      "id": "HKAtvTVnMTBk",
      "execution_count": null,
      "outputs": []
    },
    {
      "cell_type": "code",
      "source": [
        "import torch.nn.functional as F\n",
        "\n",
        "# Apply softmax to the logits\n",
        "probs = F.softmax(outputs.logits, dim=-1)\n",
        "\n",
        "# Get the predicted labels: choose the label with the highest probability\n",
        "predicted_labels = torch.argmax(probs, dim=-1)\n",
        "\n",
        "print(predicted_labels)"
      ],
      "metadata": {
        "id": "MslfItFyM7SS"
      },
      "id": "MslfItFyM7SS",
      "execution_count": null,
      "outputs": []
    },
    {
      "cell_type": "markdown",
      "source": [
        "# Test model"
      ],
      "metadata": {
        "id": "Q9fDOtOB8iwV"
      },
      "id": "Q9fDOtOB8iwV"
    },
    {
      "cell_type": "code",
      "source": [
        "from google.colab import runtime\n",
        "runtime.unassign()"
      ],
      "metadata": {
        "id": "_4OTROqwLeST"
      },
      "id": "_4OTROqwLeST",
      "execution_count": null,
      "outputs": []
    }
  ],
  "metadata": {
    "accelerator": "GPU",
    "colab": {
      "gpuType": "V100",
      "machine_shape": "hm",
      "provenance": []
    },
    "kernelspec": {
      "display_name": "Python 3",
      "name": "python3"
    },
    "language_info": {
      "codemirror_mode": {
        "name": "ipython",
        "version": 3
      },
      "file_extension": ".py",
      "mimetype": "text/x-python",
      "name": "python",
      "nbconvert_exporter": "python",
      "pygments_lexer": "ipython3",
      "version": "3.11.3"
    }
  },
  "nbformat": 4,
  "nbformat_minor": 5
}