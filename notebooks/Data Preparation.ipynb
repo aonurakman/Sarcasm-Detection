{
 "cells": [
  {
   "cell_type": "markdown",
   "id": "31a3b3d8",
   "metadata": {},
   "source": [
    "# Data Preparation"
   ]
  },
  {
   "cell_type": "code",
   "execution_count": 1,
   "id": "ebc4e078",
   "metadata": {},
   "outputs": [],
   "source": [
    "from nltk.tokenize import word_tokenize\n",
    "\n",
    "import contractions\n",
    "import emoji\n",
    "import pandas\n",
    "import re\n",
    "import string"
   ]
  },
  {
   "cell_type": "markdown",
   "id": "768b065c",
   "metadata": {},
   "source": [
    "# Read Data"
   ]
  },
  {
   "cell_type": "code",
   "execution_count": 2,
   "id": "27adeb67",
   "metadata": {},
   "outputs": [],
   "source": [
    "data = pandas.read_csv(\"../data/train-balanced-sarcasm.csv\", index_col=False)"
   ]
  },
  {
   "cell_type": "code",
   "execution_count": 3,
   "id": "c44fafc9",
   "metadata": {},
   "outputs": [],
   "source": [
    "data.dropna(inplace = True)\n",
    "data['label'] = data['label'].astype('int64')\n",
    "data['comment'] = data['comment'].astype('string')\n",
    "data['parent_comment'] = data['parent_comment'].astype('string')"
   ]
  },
  {
   "cell_type": "code",
   "execution_count": 4,
   "id": "66bd80f5",
   "metadata": {},
   "outputs": [
    {
     "data": {
      "text/html": [
       "<div>\n",
       "<style scoped>\n",
       "    .dataframe tbody tr th:only-of-type {\n",
       "        vertical-align: middle;\n",
       "    }\n",
       "\n",
       "    .dataframe tbody tr th {\n",
       "        vertical-align: top;\n",
       "    }\n",
       "\n",
       "    .dataframe thead th {\n",
       "        text-align: right;\n",
       "    }\n",
       "</style>\n",
       "<table border=\"1\" class=\"dataframe\">\n",
       "  <thead>\n",
       "    <tr style=\"text-align: right;\">\n",
       "      <th></th>\n",
       "      <th>label</th>\n",
       "      <th>comment</th>\n",
       "      <th>author</th>\n",
       "      <th>subreddit</th>\n",
       "      <th>score</th>\n",
       "      <th>ups</th>\n",
       "      <th>downs</th>\n",
       "      <th>date</th>\n",
       "      <th>created_utc</th>\n",
       "      <th>parent_comment</th>\n",
       "    </tr>\n",
       "  </thead>\n",
       "  <tbody>\n",
       "    <tr>\n",
       "      <th>0</th>\n",
       "      <td>0</td>\n",
       "      <td>NC and NH.</td>\n",
       "      <td>Trumpbart</td>\n",
       "      <td>politics</td>\n",
       "      <td>2</td>\n",
       "      <td>-1</td>\n",
       "      <td>-1</td>\n",
       "      <td>2016-10</td>\n",
       "      <td>2016-10-16 23:55:23</td>\n",
       "      <td>Yeah, I get that argument. At this point, I'd ...</td>\n",
       "    </tr>\n",
       "    <tr>\n",
       "      <th>1</th>\n",
       "      <td>0</td>\n",
       "      <td>You do know west teams play against west teams...</td>\n",
       "      <td>Shbshb906</td>\n",
       "      <td>nba</td>\n",
       "      <td>-4</td>\n",
       "      <td>-1</td>\n",
       "      <td>-1</td>\n",
       "      <td>2016-11</td>\n",
       "      <td>2016-11-01 00:24:10</td>\n",
       "      <td>The blazers and Mavericks (The wests 5 and 6 s...</td>\n",
       "    </tr>\n",
       "    <tr>\n",
       "      <th>2</th>\n",
       "      <td>0</td>\n",
       "      <td>They were underdogs earlier today, but since G...</td>\n",
       "      <td>Creepeth</td>\n",
       "      <td>nfl</td>\n",
       "      <td>3</td>\n",
       "      <td>3</td>\n",
       "      <td>0</td>\n",
       "      <td>2016-09</td>\n",
       "      <td>2016-09-22 21:45:37</td>\n",
       "      <td>They're favored to win.</td>\n",
       "    </tr>\n",
       "    <tr>\n",
       "      <th>3</th>\n",
       "      <td>0</td>\n",
       "      <td>This meme isn't funny none of the \"new york ni...</td>\n",
       "      <td>icebrotha</td>\n",
       "      <td>BlackPeopleTwitter</td>\n",
       "      <td>-8</td>\n",
       "      <td>-1</td>\n",
       "      <td>-1</td>\n",
       "      <td>2016-10</td>\n",
       "      <td>2016-10-18 21:03:47</td>\n",
       "      <td>deadass don't kill my buzz</td>\n",
       "    </tr>\n",
       "    <tr>\n",
       "      <th>4</th>\n",
       "      <td>0</td>\n",
       "      <td>I could use one of those tools.</td>\n",
       "      <td>cush2push</td>\n",
       "      <td>MaddenUltimateTeam</td>\n",
       "      <td>6</td>\n",
       "      <td>-1</td>\n",
       "      <td>-1</td>\n",
       "      <td>2016-12</td>\n",
       "      <td>2016-12-30 17:00:13</td>\n",
       "      <td>Yep can confirm I saw the tool they use for th...</td>\n",
       "    </tr>\n",
       "    <tr>\n",
       "      <th>...</th>\n",
       "      <td>...</td>\n",
       "      <td>...</td>\n",
       "      <td>...</td>\n",
       "      <td>...</td>\n",
       "      <td>...</td>\n",
       "      <td>...</td>\n",
       "      <td>...</td>\n",
       "      <td>...</td>\n",
       "      <td>...</td>\n",
       "      <td>...</td>\n",
       "    </tr>\n",
       "    <tr>\n",
       "      <th>1010821</th>\n",
       "      <td>1</td>\n",
       "      <td>I'm sure that Iran and N. Korea have the techn...</td>\n",
       "      <td>TwarkMain</td>\n",
       "      <td>reddit.com</td>\n",
       "      <td>2</td>\n",
       "      <td>2</td>\n",
       "      <td>0</td>\n",
       "      <td>2009-04</td>\n",
       "      <td>2009-04-25 00:47:52</td>\n",
       "      <td>No one is calling this an engineered pathogen,...</td>\n",
       "    </tr>\n",
       "    <tr>\n",
       "      <th>1010822</th>\n",
       "      <td>1</td>\n",
       "      <td>whatever you do, don't vote green!</td>\n",
       "      <td>BCHarvey</td>\n",
       "      <td>climate</td>\n",
       "      <td>1</td>\n",
       "      <td>1</td>\n",
       "      <td>0</td>\n",
       "      <td>2009-05</td>\n",
       "      <td>2009-05-14 22:27:40</td>\n",
       "      <td>In a move typical of their recent do-nothing a...</td>\n",
       "    </tr>\n",
       "    <tr>\n",
       "      <th>1010823</th>\n",
       "      <td>1</td>\n",
       "      <td>Perhaps this is an atheist conspiracy to make ...</td>\n",
       "      <td>rebelcommander</td>\n",
       "      <td>atheism</td>\n",
       "      <td>1</td>\n",
       "      <td>1</td>\n",
       "      <td>0</td>\n",
       "      <td>2009-01</td>\n",
       "      <td>2009-01-11 00:22:57</td>\n",
       "      <td>Screw the Disabled--I've got to get to Church ...</td>\n",
       "    </tr>\n",
       "    <tr>\n",
       "      <th>1010824</th>\n",
       "      <td>1</td>\n",
       "      <td>The Slavs got their own country - it is called...</td>\n",
       "      <td>catsi</td>\n",
       "      <td>worldnews</td>\n",
       "      <td>1</td>\n",
       "      <td>1</td>\n",
       "      <td>0</td>\n",
       "      <td>2009-01</td>\n",
       "      <td>2009-01-23 21:12:49</td>\n",
       "      <td>I've always been unsettled by that. I hear a l...</td>\n",
       "    </tr>\n",
       "    <tr>\n",
       "      <th>1010825</th>\n",
       "      <td>1</td>\n",
       "      <td>values, as in capitalism .. there is good mone...</td>\n",
       "      <td>frogking</td>\n",
       "      <td>politics</td>\n",
       "      <td>2</td>\n",
       "      <td>2</td>\n",
       "      <td>0</td>\n",
       "      <td>2009-01</td>\n",
       "      <td>2009-01-24 06:20:14</td>\n",
       "      <td>Why do the people who make our laws seem unabl...</td>\n",
       "    </tr>\n",
       "  </tbody>\n",
       "</table>\n",
       "<p>1010773 rows × 10 columns</p>\n",
       "</div>"
      ],
      "text/plain": [
       "         label                                            comment  \\\n",
       "0            0                                         NC and NH.   \n",
       "1            0  You do know west teams play against west teams...   \n",
       "2            0  They were underdogs earlier today, but since G...   \n",
       "3            0  This meme isn't funny none of the \"new york ni...   \n",
       "4            0                    I could use one of those tools.   \n",
       "...        ...                                                ...   \n",
       "1010821      1  I'm sure that Iran and N. Korea have the techn...   \n",
       "1010822      1                 whatever you do, don't vote green!   \n",
       "1010823      1  Perhaps this is an atheist conspiracy to make ...   \n",
       "1010824      1  The Slavs got their own country - it is called...   \n",
       "1010825      1  values, as in capitalism .. there is good mone...   \n",
       "\n",
       "                 author           subreddit  score  ups  downs     date  \\\n",
       "0             Trumpbart            politics      2   -1     -1  2016-10   \n",
       "1             Shbshb906                 nba     -4   -1     -1  2016-11   \n",
       "2              Creepeth                 nfl      3    3      0  2016-09   \n",
       "3             icebrotha  BlackPeopleTwitter     -8   -1     -1  2016-10   \n",
       "4             cush2push  MaddenUltimateTeam      6   -1     -1  2016-12   \n",
       "...                 ...                 ...    ...  ...    ...      ...   \n",
       "1010821       TwarkMain          reddit.com      2    2      0  2009-04   \n",
       "1010822        BCHarvey             climate      1    1      0  2009-05   \n",
       "1010823  rebelcommander             atheism      1    1      0  2009-01   \n",
       "1010824           catsi           worldnews      1    1      0  2009-01   \n",
       "1010825        frogking            politics      2    2      0  2009-01   \n",
       "\n",
       "                 created_utc  \\\n",
       "0        2016-10-16 23:55:23   \n",
       "1        2016-11-01 00:24:10   \n",
       "2        2016-09-22 21:45:37   \n",
       "3        2016-10-18 21:03:47   \n",
       "4        2016-12-30 17:00:13   \n",
       "...                      ...   \n",
       "1010821  2009-04-25 00:47:52   \n",
       "1010822  2009-05-14 22:27:40   \n",
       "1010823  2009-01-11 00:22:57   \n",
       "1010824  2009-01-23 21:12:49   \n",
       "1010825  2009-01-24 06:20:14   \n",
       "\n",
       "                                            parent_comment  \n",
       "0        Yeah, I get that argument. At this point, I'd ...  \n",
       "1        The blazers and Mavericks (The wests 5 and 6 s...  \n",
       "2                                  They're favored to win.  \n",
       "3                               deadass don't kill my buzz  \n",
       "4        Yep can confirm I saw the tool they use for th...  \n",
       "...                                                    ...  \n",
       "1010821  No one is calling this an engineered pathogen,...  \n",
       "1010822  In a move typical of their recent do-nothing a...  \n",
       "1010823  Screw the Disabled--I've got to get to Church ...  \n",
       "1010824  I've always been unsettled by that. I hear a l...  \n",
       "1010825  Why do the people who make our laws seem unabl...  \n",
       "\n",
       "[1010773 rows x 10 columns]"
      ]
     },
     "metadata": {},
     "output_type": "display_data"
    }
   ],
   "source": [
    "display(data)"
   ]
  },
  {
   "cell_type": "markdown",
   "id": "adeed34b",
   "metadata": {},
   "source": [
    "# Process data"
   ]
  },
  {
   "cell_type": "markdown",
   "id": "6c76c54e",
   "metadata": {},
   "source": [
    "### Drop unused columns"
   ]
  },
  {
   "cell_type": "code",
   "execution_count": 5,
   "id": "207dd88d",
   "metadata": {},
   "outputs": [],
   "source": [
    "data.drop(columns=[\"author\", \"subreddit\", \"score\", \"ups\", \"downs\", \"date\", \"created_utc\"], inplace=True)"
   ]
  },
  {
   "cell_type": "code",
   "execution_count": 6,
   "id": "5d6e2689",
   "metadata": {},
   "outputs": [
    {
     "name": "stdout",
     "output_type": "stream",
     "text": [
      "label              int64\n",
      "comment           string\n",
      "parent_comment    string\n",
      "dtype: object\n"
     ]
    }
   ],
   "source": [
    "print(data.dtypes)"
   ]
  },
  {
   "cell_type": "markdown",
   "id": "84b801a7",
   "metadata": {},
   "source": [
    "### Clean & Reformat Data"
   ]
  },
  {
   "cell_type": "code",
   "execution_count": 7,
   "id": "9bac009e",
   "metadata": {},
   "outputs": [],
   "source": [
    "punc_inplace = {\n",
    "    ':)' : ' SMILEY ',\n",
    "    ':D' : ' GRINNINGFACE ',\n",
    "    ':(' : ' SADFACE ',\n",
    "    ':/' : ' CONFUSEDFACE ',\n",
    "    '\\n' : ' NEWLINE ',\n",
    "    '.' : ' PERIOD ',\n",
    "    ',' : ' COMMA ',\n",
    "    '\"' : ' QUOTATIONMARK ',\n",
    "    ';' : ' SEMICOLON ',\n",
    "    '!' : ' EXCLAMATIONMARK ',\n",
    "    '?' : ' QUESTION_MARK ',\n",
    "    '(' : ' LEFTPAREN ',\n",
    "    ')' : ' RIGHT_PAREN ',\n",
    "    '/' : ' SLASH ',\n",
    "    '-' : ' MINUSSIGN ',\n",
    "    '?' : ' QUESTIONMARK ',\n",
    "    ':' : ' COLON ',\n",
    "    '#' : ' HASHTAG ',\n",
    "    '%' : ' PERCENT ',\n",
    "    '&' : ' AMPERSAND ',\n",
    "    '=' : ' EQUALS ',\n",
    "    '$' : ' DOLLARSIGN '\n",
    "}"
   ]
  },
  {
   "cell_type": "code",
   "execution_count": 8,
   "id": "751ac12f",
   "metadata": {},
   "outputs": [],
   "source": [
    "def clean_text(text):\n",
    "    \n",
    "    # Drop if text is too long\n",
    "    if len(text) > 500:\n",
    "        return None\n",
    "        \n",
    "    text = contractions.fix(text)\n",
    "    text = text.lower()\n",
    "    \n",
    "    for key, value in punc_inplace.items():\n",
    "        text = text.replace(key, value)\n",
    "    \n",
    "    text = emoji.demojize(text)\n",
    "    \n",
    "    text = re.sub(r'[^\\w\\s]', '', text)\n",
    "    \n",
    "    tokens = word_tokenize(text)\n",
    "    text = \" \".join([token for token in tokens])\n",
    "    \n",
    "    # Drop row if the comment is empty or too long after cleaning\n",
    "    if (text.strip() == \"\") or (len(text) > 500):\n",
    "        return None\n",
    "\n",
    "    return text"
   ]
  },
  {
   "cell_type": "code",
   "execution_count": 9,
   "id": "db0f07e2",
   "metadata": {},
   "outputs": [
    {
     "name": "stdout",
     "output_type": "stream",
     "text": [
      "[COMMENTS CLEANED]\n",
      "[PARENT COMMENTS CLEANED]\n"
     ]
    }
   ],
   "source": [
    "data['comment'] = data['comment'].apply(clean_text)\n",
    "print(\"[COMMENTS CLEANED]\")\n",
    "\n",
    "data['parent_comment'] = data['parent_comment'].apply(clean_text)\n",
    "print(\"[PARENT COMMENTS CLEANED]\")"
   ]
  },
  {
   "cell_type": "markdown",
   "id": "3524b411",
   "metadata": {},
   "source": [
    "### Drop NA Rows"
   ]
  },
  {
   "cell_type": "code",
   "execution_count": 10,
   "id": "5122fb5c",
   "metadata": {},
   "outputs": [],
   "source": [
    "data = data.dropna(subset=['label'])\n",
    "data = data.dropna(subset=['comment'])\n",
    "data = data.dropna(subset=['parent_comment'])\n",
    "\n",
    "data = data.reset_index(drop=True)"
   ]
  },
  {
   "cell_type": "markdown",
   "id": "9ac09743",
   "metadata": {},
   "source": [
    "# Result"
   ]
  },
  {
   "cell_type": "code",
   "execution_count": 11,
   "id": "86f196a7",
   "metadata": {},
   "outputs": [
    {
     "data": {
      "text/html": [
       "<div>\n",
       "<style scoped>\n",
       "    .dataframe tbody tr th:only-of-type {\n",
       "        vertical-align: middle;\n",
       "    }\n",
       "\n",
       "    .dataframe tbody tr th {\n",
       "        vertical-align: top;\n",
       "    }\n",
       "\n",
       "    .dataframe thead th {\n",
       "        text-align: right;\n",
       "    }\n",
       "</style>\n",
       "<table border=\"1\" class=\"dataframe\">\n",
       "  <thead>\n",
       "    <tr style=\"text-align: right;\">\n",
       "      <th></th>\n",
       "      <th>label</th>\n",
       "      <th>comment</th>\n",
       "      <th>parent_comment</th>\n",
       "    </tr>\n",
       "  </thead>\n",
       "  <tbody>\n",
       "    <tr>\n",
       "      <th>0</th>\n",
       "      <td>0</td>\n",
       "      <td>nc and nh PERIOD</td>\n",
       "      <td>yeah COMMA i get that argument PERIOD at this ...</td>\n",
       "    </tr>\n",
       "    <tr>\n",
       "      <th>1</th>\n",
       "      <td>0</td>\n",
       "      <td>you do know west teams play against west teams...</td>\n",
       "      <td>the blazers and mavericks LEFTPAREN the wests ...</td>\n",
       "    </tr>\n",
       "    <tr>\n",
       "      <th>2</th>\n",
       "      <td>0</td>\n",
       "      <td>they were underdogs earlier today COMMA but si...</td>\n",
       "      <td>they are favored to win PERIOD</td>\n",
       "    </tr>\n",
       "    <tr>\n",
       "      <th>3</th>\n",
       "      <td>0</td>\n",
       "      <td>this meme is not funny none of the QUOTATIONMA...</td>\n",
       "      <td>deadass do not kill my buzz</td>\n",
       "    </tr>\n",
       "    <tr>\n",
       "      <th>4</th>\n",
       "      <td>0</td>\n",
       "      <td>i could use one of those tools PERIOD</td>\n",
       "      <td>yep can confirm i saw the tool they use for th...</td>\n",
       "    </tr>\n",
       "    <tr>\n",
       "      <th>...</th>\n",
       "      <td>...</td>\n",
       "      <td>...</td>\n",
       "      <td>...</td>\n",
       "    </tr>\n",
       "    <tr>\n",
       "      <th>959545</th>\n",
       "      <td>1</td>\n",
       "      <td>i am sure that iran and n PERIOD korea have th...</td>\n",
       "      <td>no one is calling this an engineered pathogen ...</td>\n",
       "    </tr>\n",
       "    <tr>\n",
       "      <th>959546</th>\n",
       "      <td>1</td>\n",
       "      <td>whatever you do COMMA do not vote green EXCLAM...</td>\n",
       "      <td>in a move typical of their recent do MINUSSIGN...</td>\n",
       "    </tr>\n",
       "    <tr>\n",
       "      <th>959547</th>\n",
       "      <td>1</td>\n",
       "      <td>perhaps this is an atheist conspiracy to make ...</td>\n",
       "      <td>screw the disabled MINUSSIGN MINUSSIGN i have ...</td>\n",
       "    </tr>\n",
       "    <tr>\n",
       "      <th>959548</th>\n",
       "      <td>1</td>\n",
       "      <td>the slavs got their own country MINUSSIGN it i...</td>\n",
       "      <td>i have always been unsettled by that PERIOD i ...</td>\n",
       "    </tr>\n",
       "    <tr>\n",
       "      <th>959549</th>\n",
       "      <td>1</td>\n",
       "      <td>values COMMA as in capitalism PERIOD PERIOD th...</td>\n",
       "      <td>why do the people who make our laws seem unabl...</td>\n",
       "    </tr>\n",
       "  </tbody>\n",
       "</table>\n",
       "<p>959550 rows × 3 columns</p>\n",
       "</div>"
      ],
      "text/plain": [
       "        label                                            comment  \\\n",
       "0           0                                   nc and nh PERIOD   \n",
       "1           0  you do know west teams play against west teams...   \n",
       "2           0  they were underdogs earlier today COMMA but si...   \n",
       "3           0  this meme is not funny none of the QUOTATIONMA...   \n",
       "4           0              i could use one of those tools PERIOD   \n",
       "...       ...                                                ...   \n",
       "959545      1  i am sure that iran and n PERIOD korea have th...   \n",
       "959546      1  whatever you do COMMA do not vote green EXCLAM...   \n",
       "959547      1  perhaps this is an atheist conspiracy to make ...   \n",
       "959548      1  the slavs got their own country MINUSSIGN it i...   \n",
       "959549      1  values COMMA as in capitalism PERIOD PERIOD th...   \n",
       "\n",
       "                                           parent_comment  \n",
       "0       yeah COMMA i get that argument PERIOD at this ...  \n",
       "1       the blazers and mavericks LEFTPAREN the wests ...  \n",
       "2                          they are favored to win PERIOD  \n",
       "3                             deadass do not kill my buzz  \n",
       "4       yep can confirm i saw the tool they use for th...  \n",
       "...                                                   ...  \n",
       "959545  no one is calling this an engineered pathogen ...  \n",
       "959546  in a move typical of their recent do MINUSSIGN...  \n",
       "959547  screw the disabled MINUSSIGN MINUSSIGN i have ...  \n",
       "959548  i have always been unsettled by that PERIOD i ...  \n",
       "959549  why do the people who make our laws seem unabl...  \n",
       "\n",
       "[959550 rows x 3 columns]"
      ]
     },
     "metadata": {},
     "output_type": "display_data"
    },
    {
     "name": "stdout",
     "output_type": "stream",
     "text": [
      "None\n"
     ]
    }
   ],
   "source": [
    "print(display(data))"
   ]
  },
  {
   "cell_type": "code",
   "execution_count": 12,
   "id": "4059ef06",
   "metadata": {},
   "outputs": [
    {
     "name": "stdout",
     "output_type": "stream",
     "text": [
      "1    481037\n",
      "0    478513\n",
      "Name: label, dtype: int64\n"
     ]
    }
   ],
   "source": [
    "print(data[\"label\"].value_counts())"
   ]
  },
  {
   "cell_type": "markdown",
   "id": "d7348210",
   "metadata": {},
   "source": [
    "# Save "
   ]
  },
  {
   "cell_type": "code",
   "execution_count": 13,
   "id": "a8dba424",
   "metadata": {},
   "outputs": [],
   "source": [
    "data.to_csv(\"../data/processed_sarcasm-dataset.csv\", index=False)"
   ]
  }
 ],
 "metadata": {
  "kernelspec": {
   "display_name": "Python 3",
   "language": "python",
   "name": "python3"
  },
  "language_info": {
   "codemirror_mode": {
    "name": "ipython",
    "version": 3
   },
   "file_extension": ".py",
   "mimetype": "text/x-python",
   "name": "python",
   "nbconvert_exporter": "python",
   "pygments_lexer": "ipython3",
   "version": "3.11.3"
  }
 },
 "nbformat": 4,
 "nbformat_minor": 5
}
